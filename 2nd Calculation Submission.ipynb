{
 "cells": [
  {
   "cell_type": "code",
   "execution_count": 1,
   "metadata": {},
   "outputs": [],
   "source": [
    "import matplotlib.pyplot as plt\n",
    "%matplotlib inline\n",
    "import pandas as pd\n",
    "import numpy as np\n",
    "import eviltransform\n",
    "from datetime import datetime\n",
    "from datetime import timedelta\n",
    "from datetime import timezone\n",
    "import time\n",
    "import math\n",
    "import glob\n",
    "import pytz\n",
    "pd.options.display.float_format = '{:.5f}'.format"
   ]
  },
  {
   "cell_type": "code",
   "execution_count": 2,
   "metadata": {},
   "outputs": [],
   "source": [
    "# load data on 20161201\n",
    "test_data = pd.read_csv('../Data_Warehouse/DiDi_XiAn/gps_20161201')\n",
    "test_data.columns = ['driver_ID', 'order_ID', 'time', 'lon', 'lat']\n",
    "test_data = test_data.sort_values(by=['driver_ID', 'order_ID', 'time'])"
   ]
  },
  {
   "cell_type": "code",
   "execution_count": 3,
   "metadata": {},
   "outputs": [],
   "source": [
    "bound_ws = eviltransform.wgs2gcj(34.224, 108.929) # west south bound\n",
    "lat_min = bound_ws[0]\n",
    "lon_min = bound_ws[1]\n",
    "bound_en = eviltransform.wgs2gcj(34.253, 108.958) # east north bound\n",
    "lat_max = bound_en[0]\n",
    "lon_max = bound_en[1]"
   ]
  },
  {
   "cell_type": "code",
   "execution_count": 4,
   "metadata": {},
   "outputs": [],
   "source": [
    "data = test_data"
   ]
  },
  {
   "cell_type": "code",
   "execution_count": 5,
   "metadata": {},
   "outputs": [],
   "source": [
    "# process data \n",
    "# get the previous item of each item for each trajectory\n",
    "data[['pre_DID', 'pre_OID', 'pre_time', 'pre_lon', 'pre_lat']] = data[['driver_ID', 'order_ID', 'time', 'lon', 'lat']].shift(1)\n",
    "\n",
    "data = data[ data.order_ID == data.pre_OID] # drop rows in which order_id and pre_order_id are not identical\n",
    "data = data.drop(columns=['pre_DID', 'pre_OID'])\n",
    "data['pre_time'] = data['pre_time'].astype(int)"
   ]
  },
  {
   "cell_type": "code",
   "execution_count": 30,
   "metadata": {},
   "outputs": [],
   "source": [
    "# north\n",
    "# get the trajectories information traversing the bounded area \n",
    "data_north = data[(data.lat >= 34.239406) & (data.pre_lat <= 34.232401) & (data.lon >= 108.946151) & (data.lon <= 108.947656)]"
   ]
  },
  {
   "cell_type": "code",
   "execution_count": 31,
   "metadata": {},
   "outputs": [
    {
     "name": "stderr",
     "output_type": "stream",
     "text": [
      "C:\\Users\\Zhiyong\\Anaconda3\\envs\\pytorch0.4\\lib\\site-packages\\ipykernel_launcher.py:1: SettingWithCopyWarning: \n",
      "A value is trying to be set on a copy of a slice from a DataFrame.\n",
      "Try using .loc[row_indexer,col_indexer] = value instead\n",
      "\n",
      "See the caveats in the documentation: http://pandas.pydata.org/pandas-docs/stable/indexing.html#indexing-view-versus-copy\n",
      "  \"\"\"Entry point for launching an IPython kernel.\n"
     ]
    }
   ],
   "source": [
    "# get datetime\n",
    "data_north['datetime'] = data_north.apply(lambda x : datetime.utcfromtimestamp(x.time) + timedelta(hours=8), axis = 1)"
   ]
  },
  {
   "cell_type": "code",
   "execution_count": 33,
   "metadata": {},
   "outputs": [],
   "source": [
    "# confine the timestamp\n",
    "data_north = data_north[data_north.datetime.dt.hour >= 6]\n",
    "\n",
    "data_north = data_north[data_north.datetime.dt.hour <= 20]"
   ]
  },
  {
   "cell_type": "code",
   "execution_count": 34,
   "metadata": {},
   "outputs": [],
   "source": [
    "def calculate_distance(lat1, lon1, lat2, lon2):\n",
    "    earth_radius = 6371*1000  # m\n",
    "    dlat = math.radians(lat2-lat1)\n",
    "    dlon = math.radians(lon2-lon1)\n",
    "    a = math.sin(dlat/2) * math.sin(dlat/2) + math.cos(math.radians(lat1)) * math.cos(math.radians(lat2)) * math.sin(dlon/2) * math.sin(dlon/2)\n",
    "    c = 2 * math.atan2(math.sqrt(a), math.sqrt(1-a))\n",
    "    d = earth_radius * c\n",
    "    return d"
   ]
  },
  {
   "cell_type": "code",
   "execution_count": 35,
   "metadata": {},
   "outputs": [],
   "source": [
    "data_north['distance'] = data_north.apply(lambda x: calculate_distance(x.lat, x.lon, x.pre_lat, x.pre_lon), axis = 1)"
   ]
  },
  {
   "cell_type": "code",
   "execution_count": 36,
   "metadata": {},
   "outputs": [
    {
     "name": "stderr",
     "output_type": "stream",
     "text": [
      "C:\\Users\\Zhiyong\\Anaconda3\\envs\\pytorch0.4\\lib\\site-packages\\ipykernel_launcher.py:1: UserWarning: Pandas doesn't allow columns to be created via a new attribute name - see https://pandas.pydata.org/pandas-docs/stable/indexing.html#attribute-access\n",
      "  \"\"\"Entry point for launching an IPython kernel.\n"
     ]
    }
   ],
   "source": [
    "data_north.interval = data_north.time - data_north.pre_time"
   ]
  },
  {
   "cell_type": "code",
   "execution_count": 37,
   "metadata": {},
   "outputs": [],
   "source": [
    "data_north['speed'] = data_north.distance / data_north.interval * 3.6"
   ]
  },
  {
   "cell_type": "code",
   "execution_count": 66,
   "metadata": {},
   "outputs": [
    {
     "data": {
      "text/plain": [
       "778.9204611450766"
      ]
     },
     "execution_count": 66,
     "metadata": {},
     "output_type": "execute_result"
    }
   ],
   "source": [
    "calculate_distance(34.239406, 108.946151, 34.232401, 108.946151)"
   ]
  },
  {
   "cell_type": "code",
   "execution_count": 128,
   "metadata": {},
   "outputs": [],
   "source": [
    "# the north-south distance of the bounded area is around 780 meters, \n",
    "# we just select trajectories whose distance of the consecutive points traversing the study area is less than 850 \n",
    "data_north_sample = data_north[data_north.distance < 850]"
   ]
  },
  {
   "cell_type": "code",
   "execution_count": 129,
   "metadata": {},
   "outputs": [],
   "source": [
    "# group the speed information\n",
    "speed_north = data_north_sample[['datetime', 'speed']].groupby(pd.Grouper(key = 'datetime', freq = '5Min')).mean()"
   ]
  },
  {
   "cell_type": "code",
   "execution_count": 130,
   "metadata": {},
   "outputs": [
    {
     "data": {
      "text/plain": [
       "<matplotlib.axes._subplots.AxesSubplot at 0x16d88b6bbe0>"
      ]
     },
     "execution_count": 130,
     "metadata": {},
     "output_type": "execute_result"
    },
    {
     "data": {
      "image/png": "[encoded data removed]",
      "text/plain": [
       "<Figure size 432x288 with 1 Axes>"
      ]
     },
     "metadata": {
      "needs_background": "light"
     },
     "output_type": "display_data"
    }
   ],
   "source": [
    "speed_north.plot()"
   ]
  },
  {
   "cell_type": "code",
   "execution_count": 132,
   "metadata": {},
   "outputs": [],
   "source": [
    "speed_north.to_csv('./prediction/calculated_north.csv')"
   ]
  },
  {
   "cell_type": "code",
   "execution_count": 57,
   "metadata": {},
   "outputs": [],
   "source": [
    "# south\n",
    "data_south = data[(data.pre_lat >= 34.239406) & (data.lat <= 34.232401) & (data.lon >= 108.946151) & (data.lon <= 108.947656)]"
   ]
  },
  {
   "cell_type": "code",
   "execution_count": 58,
   "metadata": {},
   "outputs": [
    {
     "name": "stderr",
     "output_type": "stream",
     "text": [
      "C:\\Users\\Zhiyong\\Anaconda3\\envs\\pytorch0.4\\lib\\site-packages\\ipykernel_launcher.py:1: SettingWithCopyWarning: \n",
      "A value is trying to be set on a copy of a slice from a DataFrame.\n",
      "Try using .loc[row_indexer,col_indexer] = value instead\n",
      "\n",
      "See the caveats in the documentation: http://pandas.pydata.org/pandas-docs/stable/indexing.html#indexing-view-versus-copy\n",
      "  \"\"\"Entry point for launching an IPython kernel.\n",
      "C:\\Users\\Zhiyong\\Anaconda3\\envs\\pytorch0.4\\lib\\site-packages\\ipykernel_launcher.py:9: UserWarning: Pandas doesn't allow columns to be created via a new attribute name - see https://pandas.pydata.org/pandas-docs/stable/indexing.html#attribute-access\n",
      "  if __name__ == '__main__':\n"
     ]
    }
   ],
   "source": [
    "data_south['datetime'] = data_south.apply(lambda x : datetime.utcfromtimestamp(x.time) + timedelta(hours=8), axis = 1)\n",
    "\n",
    "data_south = data_south[data_south.datetime.dt.hour >= 6]\n",
    "\n",
    "data_south = data_south[data_south.datetime.dt.hour <= 20]\n",
    "\n",
    "data_south['distance'] = data_south.apply(lambda x: calculate_distance(x.lat, x.lon, x.pre_lat, x.pre_lon), axis = 1)\n",
    "\n",
    "data_south.interval = data_south.time - data_south.pre_time\n",
    "\n",
    "data_south['speed'] = data_south.distance / data_south.interval * 3.6"
   ]
  },
  {
   "cell_type": "code",
   "execution_count": 137,
   "metadata": {},
   "outputs": [],
   "source": [
    "data_south_sample = data_south[data_south.distance < 900]"
   ]
  },
  {
   "cell_type": "code",
   "execution_count": 138,
   "metadata": {},
   "outputs": [],
   "source": [
    "speed_south = data_south_sample[['datetime', 'speed']].groupby(pd.Grouper(key = 'datetime', freq = '5Min')).mean()"
   ]
  },
  {
   "cell_type": "code",
   "execution_count": 143,
   "metadata": {},
   "outputs": [
    {
     "data": {
      "text/plain": [
       "<matplotlib.axes._subplots.AxesSubplot at 0x16d88cd8208>"
      ]
     },
     "execution_count": 143,
     "metadata": {},
     "output_type": "execute_result"
    },
    {
     "data": {
      "image/png": "[encoded data removed]",
      "text/plain": [
       "<Figure size 432x288 with 1 Axes>"
      ]
     },
     "metadata": {
      "needs_background": "light"
     },
     "output_type": "display_data"
    }
   ],
   "source": [
    "# interpolate missing values\n",
    "speed_south.interpolate().plot()"
   ]
  },
  {
   "cell_type": "code",
   "execution_count": 145,
   "metadata": {},
   "outputs": [],
   "source": [
    "speed_south.interpolate().to_csv('./prediction/calculated_south.csv')"
   ]
  }
 ],
 "metadata": {
  "kernelspec": {
   "display_name": "Python 3",
   "language": "python",
   "name": "python3"
  },
  "language_info": {
   "codemirror_mode": {
    "name": "ipython",
    "version": 3
   },
   "file_extension": ".py",
   "mimetype": "text/x-python",
   "name": "python",
   "nbconvert_exporter": "python",
   "pygments_lexer": "ipython3",
   "version": "3.7.0"
  }
 },
 "nbformat": 4,
 "nbformat_minor": 2
}
